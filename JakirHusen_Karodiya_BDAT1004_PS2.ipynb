{
 "cells": [
  {
   "cell_type": "markdown",
   "id": "69344196",
   "metadata": {},
   "source": [
    "# Problem Set 2"
   ]
  },
  {
   "cell_type": "markdown",
   "id": "61039f19",
   "metadata": {},
   "source": [
    "### Question 1"
   ]
  },
  {
   "cell_type": "code",
   "execution_count": 10,
   "id": "f109f441",
   "metadata": {},
   "outputs": [
    {
     "name": "stdout",
     "output_type": "stream",
     "text": [
      "None\n",
      "None\n",
      "None\n",
      "6\n"
     ]
    }
   ],
   "source": [
    "a = 0          #Initially variable \"a\" is assigned the value 0\n",
    "\n",
    "def b():       # Difining the function \"b\"\n",
    " global a     \n",
    " a = c(a)\n",
    "\n",
    "def c(a):\n",
    " return a + 2\n",
    "\n",
    "print(b())           \n",
    "print(b())\n",
    "print(b())\n",
    "print(a)"
   ]
  },
  {
   "attachments": {},
   "cell_type": "markdown",
   "id": "afd9ec3a",
   "metadata": {},
   "source": [
    " Explanation:\n",
    "    First of all, variable \"a\" is given the value 0.\n",
    "    Then function 'b()' and 'c()' are defined. \n",
    "    Function 'b()' usues 'c()' to update the global variable 'a' and adds 2 to its current value.\n",
    "    function 'c()' takes argument 'a' and returns 'a+2'.\n",
    "    When we call 'b()' three times, it updates the global variable 'a' and adds 2 every time.\n",
    "    Hence, after interpreter evaluates the value of 'a', it displays current value of global variable that is now 6.\n",
    "    \n",
    "    "
   ]
  },
  {
   "cell_type": "markdown",
   "id": "5a499f10",
   "metadata": {},
   "source": [
    "### Question 2"
   ]
  },
  {
   "cell_type": "code",
   "execution_count": 60,
   "id": "9faa4de7",
   "metadata": {},
   "outputs": [
    {
     "name": "stdout",
     "output_type": "stream",
     "text": [
      "The size of Filelenghth.txt is 123 bytes.\n"
     ]
    }
   ],
   "source": [
    "import os              \n",
    "\n",
    "def file_length(file_name):          #  function \"file_length\"\n",
    "    file = open(file_name)           \n",
    "    contents = file.read()           # file is being read by function\n",
    "    file.close()\n",
    "    if os.path.isfile(file_name):    # checking if file does exists\n",
    "        return len(contents)         # it will return thr length of the contents string if file does exists\n",
    "    else:\n",
    "        return -1                    # will return -1 if the file doesn't exists\n",
    "\n",
    "filename = 'Filelenghth.txt'                 \n",
    "filesize = file_length(filename)     \n",
    "\n",
    "if filesize != -1:                            \n",
    "    print(f'The size of {filename} is {filesize} bytes.')\n",
    "else:\n",
    "    print(f'{filename} does not exist.')"
   ]
  },
  {
   "cell_type": "code",
   "execution_count": 59,
   "id": "6bcb225f",
   "metadata": {},
   "outputs": [
    {
     "name": "stdout",
     "output_type": "stream",
     "text": [
      "File midterm.py not found.\n",
      "None\n",
      "File idterm.py not found.\n"
     ]
    }
   ],
   "source": [
    "def file_Length(fl):\n",
    "    try:\n",
    "        with open(fl,) as infile:\n",
    "            contents = infile.read()\n",
    "            return len(contents)\n",
    "    except FileNotFoundError:\n",
    "        print(\"File {} not found.\".format(fl))\n",
    "    except:\n",
    "        print(\"Error reading file {}.\".format(fl))\n",
    "print(file_Length('midterm.py'))\n",
    "\n",
    "(file_Length('idterm.py'))"
   ]
  },
  {
   "cell_type": "markdown",
   "id": "ec49597c",
   "metadata": {},
   "source": [
    "### Question 3\n"
   ]
  },
  {
   "cell_type": "code",
   "execution_count": 15,
   "id": "c64a36cc",
   "metadata": {},
   "outputs": [
    {
     "name": "stdout",
     "output_type": "stream",
     "text": [
      "I am a Kangaroo located at coordinates (0,0)\n"
     ]
    },
    {
     "data": {
      "text/plain": [
       "['doll', 'firetruck', 'kitten']"
      ]
     },
     "execution_count": 15,
     "metadata": {},
     "output_type": "execute_result"
    }
   ],
   "source": [
    "class Marsupial:\n",
    "    def __init__(self):\n",
    "        self.pouch = []\n",
    "    \n",
    "    def put_in_pouch(self, item):\n",
    "        self.pouch.append(item)\n",
    "    \n",
    "    def pouch_contents(self):\n",
    "        return self.pouch\n",
    "    \n",
    "class Kangaroo(Marsupial):\n",
    "    def __init__(self, x, y):\n",
    "        super().__init__()\n",
    "        self.x = x\n",
    "        self.y = y\n",
    "    def jump(self, dx, dy):\n",
    "        self.x += dx\n",
    "        self.y += dy\n",
    "    \n",
    "    def __str__(self):\n",
    "        return \"I am a Kangaroo located at coordinates ({},{})\".format(self.x, self.y)\n",
    "\n",
    "k = Kangaroo(0,0)\n",
    "print(k)\n",
    "\n",
    "k.put_in_pouch('doll')\n",
    "k.put_in_pouch('firetruck')\n",
    "k.put_in_pouch('kitten')\n",
    "k.pouch_contents()"
   ]
  },
  {
   "cell_type": "code",
   "execution_count": 100,
   "id": "ac6c1b46",
   "metadata": {},
   "outputs": [
    {
     "name": "stdout",
     "output_type": "stream",
     "text": [
      "I am a Kangaroo located at coordinates (12,0)\n"
     ]
    }
   ],
   "source": [
    "k.jump(1,0)\n",
    "k.jump(1,0)\n",
    "k.jump(1,0)\n",
    "print(k)"
   ]
  },
  {
   "cell_type": "markdown",
   "id": "7cde6c79",
   "metadata": {},
   "source": [
    "### Question 4"
   ]
  },
  {
   "cell_type": "code",
   "execution_count": 101,
   "id": "e5ffd268",
   "metadata": {},
   "outputs": [
    {
     "name": "stdout",
     "output_type": "stream",
     "text": [
      "1\n",
      "10\n",
      "5\n",
      "16\n",
      "8\n",
      "4\n",
      "2\n",
      "1\n"
     ]
    }
   ],
   "source": [
    "def collatz(x):\n",
    "    if x == 1:\n",
    "        print(x)\n",
    "    elif x % 2 == 0:\n",
    "        print(x)\n",
    "        collatz(x // 2)\n",
    "    else:\n",
    "        print(x)\n",
    "        collatz(3 * x + 1)\n",
    "        \n",
    "collatz(1)\n",
    "\n",
    "collatz(10)\n"
   ]
  },
  {
   "cell_type": "markdown",
   "id": "1c69d5ef",
   "metadata": {},
   "source": [
    "### Question 5"
   ]
  },
  {
   "cell_type": "code",
   "execution_count": 69,
   "id": "e0ee25ac",
   "metadata": {},
   "outputs": [
    {
     "name": "stdout",
     "output_type": "stream",
     "text": [
      "0\n",
      "1\n",
      "11\n",
      "1001\n"
     ]
    }
   ],
   "source": [
    "def binary(n):\n",
    "    if n == 0:\n",
    "        return '0'\n",
    "    elif n == 1:\n",
    "        return '1'\n",
    "    else:\n",
    "        return binary(n // 2) + str(n % 2)\n",
    "n = 0\n",
    "print(binary(n))\n",
    "n = 1\n",
    "print(binary(n))\n",
    "n = 3\n",
    "print(binary(n))\n",
    "n = 9\n",
    "print(binary(n))"
   ]
  },
  {
   "cell_type": "markdown",
   "id": "7c773709",
   "metadata": {},
   "source": [
    "### Question 6"
   ]
  },
  {
   "cell_type": "code",
   "execution_count": 80,
   "id": "098ca52d",
   "metadata": {},
   "outputs": [
    {
     "ename": "IndentationError",
     "evalue": "expected an indented block after 'with' statement on line 25 (3959352712.py, line 26)",
     "output_type": "error",
     "traceback": [
      "\u001b[1;36m  Cell \u001b[1;32mIn[80], line 26\u001b[1;36m\u001b[0m\n\u001b[1;33m    content = infile.read()\u001b[0m\n\u001b[1;37m    ^\u001b[0m\n\u001b[1;31mIndentationError\u001b[0m\u001b[1;31m:\u001b[0m expected an indented block after 'with' statement on line 25\n"
     ]
    }
   ],
   "source": [
    "from html.parser import HTMLParser\n",
    "\n",
    "\n",
    "class HeadingParser(HTMLParser):\n",
    "    def __init__(self):\n",
    "        super().__init__()\n",
    "        self.indentation = 0\n",
    "        self.headings = []\n",
    "\n",
    "    def handle_starttag(self, tag, attrs):\n",
    "        if tag.startswith('h'):\n",
    "            self.indentation = int(tag[1]) - 1\n",
    "\n",
    "    def handle_data(self, data):\n",
    "        heading = data.strip()\n",
    "        if heading:\n",
    "            self.headings.append(' ' * self.indentation + heading)\n",
    "\n",
    "    def print_headings(self):\n",
    "        for heading in self.headings:\n",
    "            print(heading)\n",
    "\n",
    "\n",
    "\n",
    "with open('w3c.html') as infile:\n",
    "content = infile.read()\n",
    "\n",
    "hp = HeadingParser()\n",
    "hp.feed(content)\n",
    "hp.print_headings()\n"
   ]
  },
  {
   "cell_type": "markdown",
   "id": "4b00b467",
   "metadata": {},
   "source": [
    "### Question 7"
   ]
  },
  {
   "cell_type": "code",
   "execution_count": 74,
   "id": "eae7bb57",
   "metadata": {},
   "outputs": [
    {
     "name": "stdout",
     "output_type": "stream",
     "text": [
      "https://quotes.toscrape.com/\n",
      "    https://www.goodreads.com/quotes\n",
      "        https://www.goodreads.com/blog/show/2594?ref=SRMood23_eb\n",
      "        https://help.goodreads.com/s/article/Who-can-add-quotes-to-Goodreads\n"
     ]
    },
    {
     "name": "stderr",
     "output_type": "stream",
     "text": [
      "Some characters could not be decoded, and were replaced with REPLACEMENT CHARACTER.\n"
     ]
    },
    {
     "name": "stdout",
     "output_type": "stream",
     "text": [
      "        https://images.gr-assets.com/quotes/1511992603p8/8630.jpg\n"
     ]
    },
    {
     "name": "stderr",
     "output_type": "stream",
     "text": [
      "Some characters could not be decoded, and were replaced with REPLACEMENT CHARACTER.\n"
     ]
    },
    {
     "name": "stdout",
     "output_type": "stream",
     "text": [
      "        https://images.gr-assets.com/quotes/1387503187p8/10554.jpg\n"
     ]
    },
    {
     "name": "stderr",
     "output_type": "stream",
     "text": [
      "Some characters could not be decoded, and were replaced with REPLACEMENT CHARACTER.\n"
     ]
    },
    {
     "name": "stdout",
     "output_type": "stream",
     "text": [
      "        https://images.gr-assets.com/quotes/1387506524p8/2534.jpg\n"
     ]
    },
    {
     "name": "stderr",
     "output_type": "stream",
     "text": [
      "Some characters could not be decoded, and were replaced with REPLACEMENT CHARACTER.\n"
     ]
    },
    {
     "name": "stdout",
     "output_type": "stream",
     "text": [
      "        https://images.gr-assets.com/quotes/1512016299p8/12379.jpg\n",
      "        https://help.goodreads.com/s/article/Goodreads-Interest-Based-Ads-Notice\n",
      "        https://www.facebook.com/Goodreads/\n",
      "        https://twitter.com/goodreads\n",
      "        https://www.instagram.com/goodreads/\n",
      "        https://www.linkedin.com/company/goodreads-com/\n",
      "        https://itunes.apple.com/app/apple-store/id355833469?pt=325668&ct=mw_footer&mt=8\n",
      "        https://play.google.com/store/apps/details?id=com.goodreads&utm_source=mw_footer&pcampaignid=MKT-Other-global-all-co-prtnr-py-PartBadge-Mar2515-1\n",
      "    https://scrapinghub.com\n",
      "        https://www.extractsummit.io/2023-buy-tickets/?utm_source=zyte.com&utm_medium=sitewide_banner\n",
      "        https://app.zyte.com/account/login\n",
      "        https://support.zyte.com/support/home\n",
      "        https://docs.zyte.com\n",
      "        https://support.zyte.com/support/home\n",
      "        https://app.zyte.com/account/signup/zyteapi\n",
      "        https://app.zyte.com/account/signup/zyteapi\n",
      "        https://docs.zyte.com/\n",
      "        https://support.zyte.com/support/home\n",
      "        https://docs.zyte.com/what-is-zyte.html\n",
      "        https://docs.zyte.com/zyte-api/get-started/index.html\n",
      "        https://docs.zyte.com/automatic-extraction-get-started.html\n",
      "        https://docs.zyte.com/smart-proxy-manager-get-started.html\n",
      "        https://support.zyte.com/\n",
      "        https://twitter.com/zytedata?lang=es\n",
      "        https://www.facebook.com/zytedata/\n",
      "        https://www.instagram.com/zytedata/\n",
      "        https://www.youtube.com/@zytedata\n",
      "        https://www.linkedin.com/company/zytedata\n"
     ]
    }
   ],
   "source": [
    "import requests\n",
    "from bs4 import BeautifulSoup\n",
    "\n",
    "\n",
    "def webdir(url, depth, indent):\n",
    "    if depth < 0:\n",
    "        return\n",
    "\n",
    "    response = requests.get(url)\n",
    "    soup = BeautifulSoup(response.content, 'html.parser')\n",
    "\n",
    "    print(' ' * indent + url)\n",
    "\n",
    "    if depth == 0:\n",
    "        return\n",
    "\n",
    "    links = soup.find_all('a')\n",
    "    for link in links:\n",
    "        href = link.get('href')\n",
    "        if href and href.startswith('http'):\n",
    "            webdir(href, depth - 1, indent + 4)\n",
    "\n",
    "\n",
    "webdir('https://quotes.toscrape.com/', 2, 0)"
   ]
  },
  {
   "cell_type": "markdown",
   "id": "d7b76697",
   "metadata": {},
   "source": [
    "### Question 8"
   ]
  },
  {
   "cell_type": "code",
   "execution_count": 90,
   "id": "7071214e",
   "metadata": {},
   "outputs": [
    {
     "name": "stdout",
     "output_type": "stream",
     "text": [
      "[(24.8,), (28.4,), (27.9,), (27.6,), (4.2,), (8.3,), (15.7,), (10.4,), (13.6,), (20.7,), (27.7,), (22.2,)]\n",
      "[('Mumbai',), ('London',), ('Cairo',)]\n",
      "[('Mumbai', 'India', 'Winter', 24.8, 5.9), ('Mumbai', 'India', 'Spring', 28.4, 16.2), ('Mumbai', 'India', 'Summer', 27.9, 1549.4), ('Mumbai', 'India', 'Fall', 27.6, 346.0)]\n",
      "[('Mumbai', 'India', 'Fall', 27.6, 346.0), ('London', 'United Kingdom', 'Fall', 10.4, 218.5), ('Cairo', 'Egypt', 'Fall', 22.2, 4.5)]\n",
      "[('London', 'United Kingdom', 'Fall'), ('London', 'United Kingdom', 'Winter'), ('Mumbai', 'India', 'Fall')]\n",
      "[('Cairo', 'Egypt'), ('Mumbai', 'India')]\n",
      "[(27.6,)]\n",
      "[('Fall', 569.0), ('Spring', 192.29999999999998), ('Summer', 1706.5), ('Winter', 230.1)]\n"
     ]
    }
   ],
   "source": [
    "import sqlite3\n",
    "\n",
    "conn = sqlite3.connect('database_2005.db')\n",
    "\n",
    "c = conn.cursor()\n",
    "\n",
    "c.execute('''CREATE TABLE c_data (\n",
    "                City TEXT,\n",
    "                Country TEXT,\n",
    "                Season TEXT,\n",
    "                Temperature REAL,\n",
    "                Rainfall REAL\n",
    "            )''')\n",
    "\n",
    "data = [\n",
    "    ('Mumbai', 'India', 'Winter', 24.8, 5.9),\n",
    "    ('Mumbai', 'India', 'Spring', 28.4, 16.2),\n",
    "    ('Mumbai', 'India', 'Summer', 27.9, 1549.4),\n",
    "    ('Mumbai', 'India', 'Fall', 27.6, 346.0),\n",
    "    ('London', 'United Kingdom', 'Winter', 4.2, 207.7),\n",
    "    ('London', 'United Kingdom', 'Spring', 8.3, 169.6),\n",
    "    ('London', 'United Kingdom', 'Summer', 15.7, 157.0),\n",
    "    ('London', 'United Kingdom', 'Fall', 10.4, 218.5),\n",
    "    ('Cairo', 'Egypt', 'Winter', 13.6, 16.5),\n",
    "    ('Cairo', 'Egypt', 'Spring', 20.7, 6.5),\n",
    "    ('Cairo', 'Egypt', 'Summer', 27.7, 0.1),\n",
    "    ('Cairo', 'Egypt', 'Fall', 22.2, 4.5),\n",
    "]\n",
    "\n",
    "c.executemany('INSERT INTO c_data VALUES (?, ?, ?, ?, ?)', data)\n",
    "\n",
    "\n",
    "conn.commit()                  \n",
    "\n",
    "#SQL Queries\n",
    "c.execute('SELECT Temperature FROM c_data')  \n",
    "print(c.fetchall())\n",
    "\n",
    "c.execute('SELECT DISTINCT City FROM c_data')\n",
    "print(c.fetchall())\n",
    "\n",
    "c.execute('SELECT * FROM c_data WHERE Country=\"India\"')\n",
    "print(c.fetchall())\n",
    "\n",
    "c.execute('SELECT * FROM c_data WHERE Season=\"Fall\"')\n",
    "print(c.fetchall())\n",
    "\n",
    "c.execute('SELECT City, Country, Season FROM c_data WHERE Rainfall BETWEEN 200 AND 400 GROUP BY City, Country, Season')\n",
    "print(c.fetchall())\n",
    "\n",
    "c.execute('SELECT City, Country FROM c_data WHERE Season=\"Fall\" GROUP BY City, Country HAVING AVG(Temperature) > 20 ORDER BY AVG(Temperature) ASC')\n",
    "print(c.fetchall())\n",
    "\n",
    "c.execute('SELECT SUM(Rainfall) FROM c_data WHERE City=\"Cairo\"')\n",
    "print(c.fetchall())\n",
    "\n",
    "c.execute('SELECT Season, SUM(Rainfall) FROM c_data GROUP BY Season')\n",
    "print(c.fetchall())\n",
    "\n",
    "# Close the connection \n",
    "conn.close()"
   ]
  },
  {
   "cell_type": "markdown",
   "id": "3765d170",
   "metadata": {},
   "source": [
    "### Question 9"
   ]
  },
  {
   "cell_type": "code",
   "execution_count": 102,
   "id": "d8b6bdcf",
   "metadata": {},
   "outputs": [
    {
     "name": "stdout",
     "output_type": "stream",
     "text": [
      "a)\n",
      "['THE', 'QUICK', 'BROWN', 'FOX', 'JUMPS', 'OVER', 'THE', 'LAZY', 'DOG']\n"
     ]
    }
   ],
   "source": [
    "words = ['The', 'quick', 'brown', 'fox', 'jumps', 'over', 'the', 'lazy', 'dog']\n",
    "uppercase_words = [element.upper() for element in words]\n",
    "print('a)')\n",
    "print(uppercase_words)\n"
   ]
  },
  {
   "cell_type": "code",
   "execution_count": 103,
   "id": "2f76921e",
   "metadata": {},
   "outputs": [
    {
     "name": "stdout",
     "output_type": "stream",
     "text": [
      "b)\n",
      "['the', 'quick', 'brown', 'fox', 'jumps', 'over', 'the', 'lazy', 'dog']\n"
     ]
    }
   ],
   "source": [
    "lowercase_words = [element.lower() for element in words]\n",
    "print('b)')\n",
    "print(lowercase_words)"
   ]
  },
  {
   "cell_type": "code",
   "execution_count": 104,
   "id": "fc1a5e04",
   "metadata": {},
   "outputs": [
    {
     "name": "stdout",
     "output_type": "stream",
     "text": [
      "c)\n"
     ]
    },
    {
     "data": {
      "text/plain": [
       "[3, 5, 5, 3, 5, 4, 3, 4, 3]"
      ]
     },
     "execution_count": 104,
     "metadata": {},
     "output_type": "execute_result"
    }
   ],
   "source": [
    "print('c)')\n",
    "[len(element) for element in words]"
   ]
  },
  {
   "cell_type": "code",
   "execution_count": 105,
   "id": "aa911545",
   "metadata": {},
   "outputs": [
    {
     "name": "stdout",
     "output_type": "stream",
     "text": [
      "d)\n"
     ]
    },
    {
     "data": {
      "text/plain": [
       "[['THE', 'the', 3],\n",
       " ['QUICK', 'quick', 5],\n",
       " ['BROWN', 'brown', 5],\n",
       " ['FOX', 'fox', 3],\n",
       " ['JUMPS', 'jumps', 5],\n",
       " ['OVER', 'over', 4],\n",
       " ['THE', 'the', 3],\n",
       " ['LAZY', 'lazy', 4],\n",
       " ['DOG', 'dog', 3]]"
      ]
     },
     "execution_count": 105,
     "metadata": {},
     "output_type": "execute_result"
    }
   ],
   "source": [
    "print('d)')\n",
    "[[element.upper(), element.lower(), len(element)] for element in words]"
   ]
  },
  {
   "cell_type": "code",
   "execution_count": 106,
   "id": "3ac990d7",
   "metadata": {},
   "outputs": [
    {
     "name": "stdout",
     "output_type": "stream",
     "text": [
      "e)\n"
     ]
    },
    {
     "data": {
      "text/plain": [
       "['quick', 'brown', 'jumps', 'over', 'lazy']"
      ]
     },
     "execution_count": 106,
     "metadata": {},
     "output_type": "execute_result"
    }
   ],
   "source": [
    "print('e)')\n",
    "[element for element in words if len(element) >= 4]"
   ]
  },
  {
   "cell_type": "code",
   "execution_count": null,
   "id": "181add4a",
   "metadata": {},
   "outputs": [],
   "source": []
  }
 ],
 "metadata": {
  "kernelspec": {
   "display_name": "Python 3 (ipykernel)",
   "language": "python",
   "name": "python3"
  },
  "language_info": {
   "codemirror_mode": {
    "name": "ipython",
    "version": 3
   },
   "file_extension": ".py",
   "mimetype": "text/x-python",
   "name": "python",
   "nbconvert_exporter": "python",
   "pygments_lexer": "ipython3",
   "version": "3.10.9"
  }
 },
 "nbformat": 4,
 "nbformat_minor": 5
}
